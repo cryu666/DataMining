{
 "cells": [
  {
   "cell_type": "code",
   "execution_count": 1,
   "id": "55a4dc7c",
   "metadata": {},
   "outputs": [
    {
     "name": "stdout",
     "output_type": "stream",
     "text": [
      "<class 'pandas.core.frame.DataFrame'>\n",
      "RangeIndex: 10000 entries, 0 to 9999\n",
      "Data columns (total 10 columns):\n",
      " #   Column                  Non-Null Count  Dtype \n",
      "---  ------                  --------------  ----- \n",
      " 0   Id                      10000 non-null  int64 \n",
      " 1   ProductId               10000 non-null  object\n",
      " 2   UserId                  10000 non-null  object\n",
      " 3   ProfileName             10000 non-null  object\n",
      " 4   HelpfulnessNumerator    10000 non-null  int64 \n",
      " 5   HelpfulnessDenominator  10000 non-null  int64 \n",
      " 6   Score                   10000 non-null  int64 \n",
      " 7   Time                    10000 non-null  int64 \n",
      " 8   Summary                 10000 non-null  object\n",
      " 9   Text                    10000 non-null  object\n",
      "dtypes: int64(5), object(5)\n",
      "memory usage: 781.4+ KB\n"
     ]
    }
   ],
   "source": [
    "import pandas as pd\n",
    "\n",
    "data = pd.read_csv(\"D:/Data Mining/HW2/Reviews.csv\", nrows = 10000)\n",
    "data.info()"
   ]
  },
  {
   "cell_type": "code",
   "execution_count": 2,
   "id": "4c6d568d",
   "metadata": {},
   "outputs": [
    {
     "name": "stdout",
     "output_type": "stream",
     "text": [
      "<class 'pandas.core.frame.DataFrame'>\n",
      "RangeIndex: 10000 entries, 0 to 9999\n",
      "Data columns (total 2 columns):\n",
      " #   Column  Non-Null Count  Dtype \n",
      "---  ------  --------------  ----- \n",
      " 0   Score   10000 non-null  int64 \n",
      " 1   Text    10000 non-null  object\n",
      "dtypes: int64(1), object(1)\n",
      "memory usage: 156.4+ KB\n"
     ]
    }
   ],
   "source": [
    "data = data.loc[:, [\"Score\", \"Text\"]]\n",
    "\n",
    "score_4 = []\n",
    "for row in data.itertuples():\n",
    "    if row.Score >= 4:\n",
    "        score_4.append(1)\n",
    "    else:\n",
    "        score_4.append(0)\n",
    "data[\"Score\"] = score_4\n",
    "data.info()"
   ]
  },
  {
   "cell_type": "code",
   "execution_count": 3,
   "id": "653db052",
   "metadata": {},
   "outputs": [
    {
     "name": "stdout",
     "output_type": "stream",
     "text": [
      "0    bought several vitality canned dog food produc...\n",
      "1    product arrived labeled jumbo salted peanuts.....\n",
      "2    confection around centuries. light, pillowy ci...\n",
      "3    looking secret ingredient robitussin believe f...\n",
      "4    great taffy great price. wide assortment yummy...\n",
      "Name: New_Text, dtype: object\n"
     ]
    }
   ],
   "source": [
    "from nltk.corpus import stopwords\n",
    "\n",
    "data[\"New_Text\"] = data[\"Text\"].str.lower()\n",
    "sw = set(stopwords.words(\"english\"))\n",
    "\n",
    "data[\"New_Text\"] = data[\"New_Text\"].apply(lambda x: \" \".join([word for word in x.split() if word not in sw]))\n",
    "print(data[\"New_Text\"][:5])"
   ]
  },
  {
   "cell_type": "code",
   "execution_count": 4,
   "id": "f6dd7001",
   "metadata": {},
   "outputs": [
    {
     "name": "stdout",
     "output_type": "stream",
     "text": [
      "(10000, 18792)\n",
      "   Score    0    1    2    3    4    5    6    7    8  ...  18782  18783  \\\n",
      "0      1  0.0  0.0  0.0  0.0  0.0  0.0  0.0  0.0  0.0  ...    0.0    0.0   \n",
      "1      0  0.0  0.0  0.0  0.0  0.0  0.0  0.0  0.0  0.0  ...    0.0    0.0   \n",
      "2      1  0.0  0.0  0.0  0.0  0.0  0.0  0.0  0.0  0.0  ...    0.0    0.0   \n",
      "3      0  0.0  0.0  0.0  0.0  0.0  0.0  0.0  0.0  0.0  ...    0.0    0.0   \n",
      "4      1  0.0  0.0  0.0  0.0  0.0  0.0  0.0  0.0  0.0  ...    0.0    0.0   \n",
      "\n",
      "   18784  18785  18786  18787  18788  18789  18790  18791  \n",
      "0    0.0    0.0    0.0    0.0    0.0    0.0    0.0    0.0  \n",
      "1    0.0    0.0    0.0    0.0    0.0    0.0    0.0    0.0  \n",
      "2    0.0    0.0    0.0    0.0    0.0    0.0    0.0    0.0  \n",
      "3    0.0    0.0    0.0    0.0    0.0    0.0    0.0    0.0  \n",
      "4    0.0    0.0    0.0    0.0    0.0    0.0    0.0    0.0  \n",
      "\n",
      "[5 rows x 18793 columns]\n"
     ]
    }
   ],
   "source": [
    "from sklearn.feature_extraction.text import TfidfVectorizer\n",
    "\n",
    "tfid = TfidfVectorizer()\n",
    "tfid = tfid.fit_transform(data[\"New_Text\"])\n",
    "\n",
    "print(tfid.shape)\n",
    "\n",
    "df1_A = data.loc[:, [\"Score\"]]\n",
    "df1_B = pd.DataFrame(tfid.toarray())\n",
    "df1 = pd.concat([df1_A, df1_B], axis = 1)\n",
    "print(df1[:5])"
   ]
  },
  {
   "cell_type": "code",
   "execution_count": 5,
   "id": "74d8d051",
   "metadata": {},
   "outputs": [],
   "source": [
    "import gensim\n",
    "from gensim.models.word2vec import Word2Vec\n",
    "\n",
    "tokenized_text = data[\"New_Text\"].apply(lambda x: x.split())\n",
    "model_w2v = gensim.models.Word2Vec(\n",
    "            tokenized_text,\n",
    "            window = 5,\n",
    "            min_count = 2,\n",
    "            sg = 1,\n",
    "            hs = 0,\n",
    "            negative = 10,\n",
    "            workers = 32,\n",
    "            seed = 34)\n",
    "\n"
   ]
  },
  {
   "cell_type": "code",
   "execution_count": 6,
   "id": "996c2b17",
   "metadata": {},
   "outputs": [],
   "source": [
    "model_w2v.build_vocab(tokenized_text, progress_per = 1000)"
   ]
  },
  {
   "cell_type": "code",
   "execution_count": 7,
   "id": "a30d8876",
   "metadata": {},
   "outputs": [
    {
     "data": {
      "text/plain": [
       "(1835632, 2047285)"
      ]
     },
     "execution_count": 7,
     "metadata": {},
     "output_type": "execute_result"
    }
   ],
   "source": [
    "model_w2v.train(tokenized_text, total_examples = model_w2v.corpus_count, epochs = model_w2v.epochs)"
   ]
  },
  {
   "cell_type": "code",
   "execution_count": 8,
   "id": "3655fd50",
   "metadata": {},
   "outputs": [],
   "source": [
    "model_w2v.save(\"D:/Data Mining/HW2/W2V\")"
   ]
  },
  {
   "cell_type": "code",
   "execution_count": 9,
   "id": "692a4de1",
   "metadata": {},
   "outputs": [
    {
     "data": {
      "text/plain": [
       "[('decent', 0.7414308786392212),\n",
       " ('fantastic', 0.7252123951911926),\n",
       " ('good,', 0.6955394148826599),\n",
       " ('greatest', 0.6875644326210022),\n",
       " ('great', 0.6864476203918457),\n",
       " ('compromise', 0.6838355660438538),\n",
       " ('mediocre', 0.6828298568725586),\n",
       " ('terrific', 0.6761401295661926),\n",
       " ('affect', 0.6712435483932495),\n",
       " ('compares', 0.6711976528167725)]"
      ]
     },
     "execution_count": 9,
     "metadata": {},
     "output_type": "execute_result"
    }
   ],
   "source": [
    "model_w2v.wv.most_similar(\"good\")"
   ]
  },
  {
   "cell_type": "code",
   "execution_count": 10,
   "id": "f33b3882",
   "metadata": {},
   "outputs": [],
   "source": [
    "def word_vector(tokens, size):\n",
    "    vec = np.zeros(size).reshape((1, size))\n",
    "    count = 0\n",
    "    for word in tokens:\n",
    "        try:\n",
    "            vec += model_w2v.wv[word].reshape((1, size))\n",
    "            count += 1\n",
    "        except KeyError:\n",
    "            continue\n",
    "    if count != 0:\n",
    "        vec /= count\n",
    "    return vec\n",
    "                "
   ]
  },
  {
   "cell_type": "code",
   "execution_count": 11,
   "id": "4329f649",
   "metadata": {
    "scrolled": true
   },
   "outputs": [
    {
     "name": "stdout",
     "output_type": "stream",
     "text": [
      "(10000, 100)\n"
     ]
    }
   ],
   "source": [
    "import numpy as np\n",
    "w2v_arrays = np.zeros((len(tokenized_text), 100))\n",
    "for i in range(len(tokenized_text)):\n",
    "    w2v_arrays[i,:] = word_vector(tokenized_text[i], 100)\n",
    "w2v_df = pd.DataFrame(w2v_arrays)\n",
    "\n",
    "print(w2v_df.shape)"
   ]
  },
  {
   "cell_type": "code",
   "execution_count": 12,
   "id": "701fd9ce",
   "metadata": {
    "scrolled": false
   },
   "outputs": [
    {
     "name": "stdout",
     "output_type": "stream",
     "text": [
      "   Score         0         1         2         3         4         5  \\\n",
      "0      1 -0.195535 -0.395347  0.001792  0.138430 -0.178449 -0.261397   \n",
      "1      0 -0.339054 -0.389655  0.019959  0.024976 -0.073523  0.062920   \n",
      "2      1 -0.162290 -0.414272  0.069906  0.081594 -0.218892  0.134486   \n",
      "3      0 -0.182823 -0.217439 -0.064454  0.131533 -0.125639  0.206125   \n",
      "4      1 -0.155265 -0.319211 -0.087308  0.160939 -0.138497  0.047058   \n",
      "\n",
      "          6         7         8  ...        90        91        92        93  \\\n",
      "0 -0.119046 -0.213248  0.378351  ...  0.148595 -0.509286  0.270203  0.180871   \n",
      "1 -0.031040 -0.151524  0.289774  ...  0.263520 -0.430171  0.189792  0.255900   \n",
      "2 -0.042746 -0.280327  0.378188  ...  0.195344 -0.327714  0.161781  0.157842   \n",
      "3  0.125657 -0.261090  0.403230  ...  0.152565 -0.413069  0.212136  0.030154   \n",
      "4 -0.117555 -0.329421  0.391538  ...  0.252161 -0.363431  0.137474  0.377906   \n",
      "\n",
      "         94        95        96        97        98        99  \n",
      "0  0.251244 -0.288579 -0.196328 -0.052330 -0.144686 -0.312016  \n",
      "1  0.213209 -0.391050  0.008103 -0.159527 -0.283955 -0.163557  \n",
      "2  0.097375 -0.511231  0.012566 -0.173058 -0.183206 -0.172036  \n",
      "3  0.103628 -0.441390 -0.035458 -0.120407 -0.127485 -0.124366  \n",
      "4 -0.052559 -0.069309 -0.114199 -0.155319 -0.125373 -0.219046  \n",
      "\n",
      "[5 rows x 101 columns]\n"
     ]
    }
   ],
   "source": [
    "df2_A = data.loc[:, [\"Score\"]]\n",
    "df2_B = w2v_df\n",
    "df2 = pd.concat([df2_A, df2_B], axis = 1)\n",
    "print(df2[:5])"
   ]
  },
  {
   "cell_type": "code",
   "execution_count": 13,
   "id": "2f4c1edd",
   "metadata": {},
   "outputs": [],
   "source": [
    "from sklearn.ensemble import RandomForestClassifier\n",
    "from sklearn.metrics import accuracy_score\n",
    "from pandas import DataFrame\n",
    "from decimal import *\n",
    "\n",
    "def K_fold_CV(k, data):\n",
    "    subset_size = int(data.shape[0] / k)\n",
    "    accuracy = Decimal(0)\n",
    "    \n",
    "    for i in range(k):\n",
    "        train_1 = data.iloc[:i * subset_size]\n",
    "        train_2 = data.iloc[i * subset_size + subset_size:len(data)]\n",
    "        train = pd.concat([train_1, train_2])\n",
    "        test = data.iloc[i * subset_size: i * subset_size + subset_size]\n",
    "        \n",
    "        X_train = train.iloc[:, 1:]\n",
    "        Y_train = train[\"Score\"]\n",
    "        X_test = test.iloc[:, 1:]\n",
    "        Y_test = test[\"Score\"]\n",
    "        \n",
    "    \n",
    "        rfc = RandomForestClassifier(max_depth=5, random_state=0)\n",
    "        rfc.fit(X_train, Y_train)\n",
    "        predict = rfc.predict(X_test)\n",
    "        accuracy += Decimal(accuracy_score(Y_test, predict))\n",
    "    \n",
    "    return accuracy / k\n"
   ]
  },
  {
   "cell_type": "code",
   "execution_count": 14,
   "id": "e4aa6098",
   "metadata": {},
   "outputs": [
    {
     "name": "stdout",
     "output_type": "stream",
     "text": [
      "0.761599999999999999200639422\n"
     ]
    }
   ],
   "source": [
    "accuracy = K_fold_CV(4, df1)\n",
    "print(accuracy)"
   ]
  },
  {
   "cell_type": "code",
   "execution_count": 15,
   "id": "a3a0a1cb",
   "metadata": {},
   "outputs": [
    {
     "name": "stdout",
     "output_type": "stream",
     "text": [
      "0.7647000000000000186073378928\n"
     ]
    }
   ],
   "source": [
    "accuracy = K_fold_CV(4, df2)\n",
    "print(accuracy)"
   ]
  },
  {
   "cell_type": "code",
   "execution_count": null,
   "id": "69fba91f",
   "metadata": {},
   "outputs": [],
   "source": []
  }
 ],
 "metadata": {
  "kernelspec": {
   "display_name": "Python 3 (ipykernel)",
   "language": "python",
   "name": "python3"
  },
  "language_info": {
   "codemirror_mode": {
    "name": "ipython",
    "version": 3
   },
   "file_extension": ".py",
   "mimetype": "text/x-python",
   "name": "python",
   "nbconvert_exporter": "python",
   "pygments_lexer": "ipython3",
   "version": "3.9.12"
  }
 },
 "nbformat": 4,
 "nbformat_minor": 5
}
