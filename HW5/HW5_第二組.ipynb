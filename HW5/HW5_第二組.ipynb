{
 "cells": [
  {
   "cell_type": "code",
   "execution_count": 1,
   "id": "f8267ffb",
   "metadata": {},
   "outputs": [],
   "source": [
    "import pyspark\n",
    "from pyspark.sql import SQLContext\n",
    "import pandas as pd\n",
    "import numpy as np"
   ]
  },
  {
   "cell_type": "code",
   "execution_count": 2,
   "id": "7b27f2e4",
   "metadata": {},
   "outputs": [
    {
     "name": "stdout",
     "output_type": "stream",
     "text": [
      "3.2.3\n"
     ]
    },
    {
     "name": "stderr",
     "output_type": "stream",
     "text": [
      "/home/cryu666/venv/lib/python3.6/site-packages/pyspark/sql/context.py:79: FutureWarning: Deprecated in 3.0.0. Use SparkSession.builder.getOrCreate() instead.\n",
      "  FutureWarning\n"
     ]
    }
   ],
   "source": [
    "sqlContext = SQLContext(sc)\n",
    "print(sc.version)"
   ]
  },
  {
   "cell_type": "code",
   "execution_count": 3,
   "id": "c83430b0",
   "metadata": {},
   "outputs": [
    {
     "name": "stdout",
     "output_type": "stream",
     "text": [
      "+-----------+------+-------+------+\n",
      "|TrainDataID|UserID|MovieID|Rating|\n",
      "+-----------+------+-------+------+\n",
      "|          1|   796|   1193|     5|\n",
      "|          2|   796|    661|     3|\n",
      "|          3|   796|    914|     3|\n",
      "|          4|   796|   3408|     4|\n",
      "|          5|   796|   2355|     5|\n",
      "+-----------+------+-------+------+\n",
      "only showing top 5 rows\n",
      "\n"
     ]
    }
   ],
   "source": [
    "from pyspark.sql import SparkSession    \n",
    "\n",
    "spark = SparkSession.builder.appName(\"Spark\").getOrCreate()\n",
    "data = spark.read.csv(\"./movieRating.csv\", header=True)\n",
    "data.show(5)"
   ]
  },
  {
   "cell_type": "code",
   "execution_count": 8,
   "id": "673f2edc",
   "metadata": {},
   "outputs": [
    {
     "data": {
      "text/plain": [
       "[('TrainDataID', 'string'),\n",
       " ('UserID', 'int'),\n",
       " ('MovieID', 'int'),\n",
       " ('Rating', 'double')]"
      ]
     },
     "execution_count": 8,
     "metadata": {},
     "output_type": "execute_result"
    }
   ],
   "source": [
    "from pyspark.sql.types import NumericType\n",
    "\n",
    "data = data.withColumn(\"UserID\", data.UserID.cast(\"int\"))\n",
    "data = data.withColumn(\"MovieID\", data.MovieID.cast(\"int\"))\n",
    "data = data.withColumn(\"Rating\", data.Rating.cast(\"double\"))\n",
    "\n",
    "data.dtypes"
   ]
  },
  {
   "cell_type": "code",
   "execution_count": 9,
   "id": "31d53946",
   "metadata": {},
   "outputs": [
    {
     "name": "stdout",
     "output_type": "stream",
     "text": [
      "Train data:  720037\n",
      "Test data:  179836\n"
     ]
    }
   ],
   "source": [
    "# train test split\n",
    "train, test = data.randomSplit([0.8, 0.2])\n",
    "print(\"Train data: \", train.count())\n",
    "print(\"Test data: \", test.count())"
   ]
  },
  {
   "cell_type": "code",
   "execution_count": 10,
   "id": "4be8e679",
   "metadata": {},
   "outputs": [],
   "source": [
    "from pyspark.ml.recommendation import ALS\n",
    "\n",
    "model = ALS(userCol=\"UserID\", itemCol=\"MovieID\", ratingCol=\"Rating\",\n",
    "           rank=5, maxIter=10, seed=0)\n",
    "model = model.fit(train)"
   ]
  },
  {
   "cell_type": "code",
   "execution_count": 11,
   "id": "0477843e",
   "metadata": {},
   "outputs": [
    {
     "name": "stdout",
     "output_type": "stream",
     "text": [
      "+-----------+------+-------+------+----------+\n",
      "|TrainDataID|UserID|MovieID|Rating|prediction|\n",
      "+-----------+------+-------+------+----------+\n",
      "|     100008|   358|   2686|   4.0| 3.7846448|\n",
      "|     100009|   358|   2688|   3.0| 3.2758799|\n",
      "|     100012|   358|    293|   4.0| 3.8001728|\n",
      "|     100016|   358|    457|   4.0|  4.010044|\n",
      "|     100018|   358|    608|   4.0|  3.740312|\n",
      "+-----------+------+-------+------+----------+\n",
      "only showing top 5 rows\n",
      "\n"
     ]
    }
   ],
   "source": [
    "model.transform(test).show(5)"
   ]
  },
  {
   "cell_type": "code",
   "execution_count": 14,
   "id": "a58f4dc5",
   "metadata": {},
   "outputs": [
    {
     "name": "stdout",
     "output_type": "stream",
     "text": [
      "MAE on train data:  0.6753235556392392\n",
      "MAE on test data:  0.7031716085804948\n"
     ]
    }
   ],
   "source": [
    "from pyspark.ml.evaluation import RegressionEvaluator\n",
    "\n",
    "evaluator = RegressionEvaluator(metricName=\"mae\", \n",
    "                                labelCol=\"Rating\", \n",
    "                                predictionCol=\"prediction\")\n",
    "train_pred = model.transform(train)\n",
    "test_pred = model.transform(test).na.drop()\n",
    "print(\"MAE on train data: \", evaluator.evaluate(train_pred))\n",
    "print(\"MAE on test data: \", evaluator.evaluate(test_pred))"
   ]
  },
  {
   "cell_type": "code",
   "execution_count": null,
   "id": "a81f3f22",
   "metadata": {},
   "outputs": [],
   "source": []
  }
 ],
 "metadata": {
  "kernelspec": {
   "display_name": "Python 3",
   "language": "python",
   "name": "python3"
  },
  "language_info": {
   "codemirror_mode": {
    "name": "ipython",
    "version": 3
   },
   "file_extension": ".py",
   "mimetype": "text/x-python",
   "name": "python",
   "nbconvert_exporter": "python",
   "pygments_lexer": "ipython3",
   "version": "3.6.9"
  }
 },
 "nbformat": 4,
 "nbformat_minor": 5
}
